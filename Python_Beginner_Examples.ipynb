{
  "cells": [
    {
      "cell_type": "markdown",
      "id": "c5d5af93",
      "metadata": {
        "id": "c5d5af93"
      },
      "source": [
        "### Hello World"
      ]
    },
    {
      "cell_type": "code",
      "execution_count": 1,
      "id": "23fc7f43",
      "metadata": {
        "colab": {
          "base_uri": "https://localhost:8080/"
        },
        "id": "23fc7f43",
        "outputId": "2934b796-b03f-4a9b-952f-6b0da5103ab5"
      },
      "outputs": [
        {
          "output_type": "stream",
          "name": "stdout",
          "text": [
            "Hello, World!\n"
          ]
        }
      ],
      "source": [
        "print('Hello, World!')"
      ]
    },
    {
      "cell_type": "markdown",
      "id": "e6d61523",
      "metadata": {
        "id": "e6d61523"
      },
      "source": [
        "### Basic Math Operations"
      ]
    },
    {
      "cell_type": "code",
      "execution_count": 2,
      "id": "0adc4343",
      "metadata": {
        "colab": {
          "base_uri": "https://localhost:8080/"
        },
        "id": "0adc4343",
        "outputId": "cbc91e68-5508-4aa5-f03b-f8148fc7035d"
      },
      "outputs": [
        {
          "output_type": "stream",
          "name": "stdout",
          "text": [
            "Addition: 13\n",
            "Subtraction: 7\n",
            "Multiplication: 30\n",
            "Division: 3.3333333333333335\n",
            "Exponentiation: 1000\n"
          ]
        }
      ],
      "source": [
        "a = 10\n",
        "b = 3\n",
        "print(\"Addition:\", a + b)\n",
        "print(\"Subtraction:\", a - b)\n",
        "print(\"Multiplication:\", a * b)\n",
        "print(\"Division:\", a / b)\n",
        "print(\"Exponentiation:\", a ** b)\n"
      ]
    },
    {
      "cell_type": "markdown",
      "id": "a19f01ba",
      "metadata": {
        "id": "a19f01ba"
      },
      "source": [
        "### Variables and Types"
      ]
    },
    {
      "cell_type": "code",
      "execution_count": 3,
      "id": "edbd4a1c",
      "metadata": {
        "colab": {
          "base_uri": "https://localhost:8080/"
        },
        "id": "edbd4a1c",
        "outputId": "d439ba14-8281-4f5a-e97a-c472386977ad"
      },
      "outputs": [
        {
          "output_type": "stream",
          "name": "stdout",
          "text": [
            "Name: Alice Age: 25 Height: 5.5 Is Student: True\n"
          ]
        }
      ],
      "source": [
        "name = \"Alice\"\n",
        "age = 25\n",
        "height = 5.5\n",
        "is_student = True\n",
        "print(\"Name:\", name, \"Age:\", age, \"Height:\", height, \"Is Student:\", is_student)\n"
      ]
    },
    {
      "cell_type": "markdown",
      "id": "8d8388de",
      "metadata": {
        "id": "8d8388de"
      },
      "source": [
        "### String Formatting"
      ]
    },
    {
      "cell_type": "code",
      "execution_count": 4,
      "id": "30048403",
      "metadata": {
        "colab": {
          "base_uri": "https://localhost:8080/"
        },
        "id": "30048403",
        "outputId": "e92c2696-c83a-4dfc-e8cb-420a4b2f77af"
      },
      "outputs": [
        {
          "output_type": "stream",
          "name": "stdout",
          "text": [
            "My name is Bob and I am 22 years old.\n"
          ]
        }
      ],
      "source": [
        "name = \"Bob\"\n",
        "age = 22\n",
        "print(f\"My name is {name} and I am {age} years old.\")\n"
      ]
    },
    {
      "cell_type": "markdown",
      "id": "f6d23cd1",
      "metadata": {
        "id": "f6d23cd1"
      },
      "source": [
        "### Lists"
      ]
    },
    {
      "cell_type": "code",
      "execution_count": 5,
      "id": "c91230cd",
      "metadata": {
        "colab": {
          "base_uri": "https://localhost:8080/"
        },
        "id": "c91230cd",
        "outputId": "f8cef956-9bb8-4601-9268-1b0422fd390f"
      },
      "outputs": [
        {
          "output_type": "stream",
          "name": "stdout",
          "text": [
            "First fruit: apple\n",
            "All fruits: ['apple', 'banana', 'cherry']\n"
          ]
        }
      ],
      "source": [
        "fruits = [\"apple\", \"banana\", \"cherry\"]\n",
        "print(\"First fruit:\", fruits[0])\n",
        "print(\"All fruits:\", fruits)\n"
      ]
    },
    {
      "cell_type": "markdown",
      "id": "3eb9eeb7",
      "metadata": {
        "id": "3eb9eeb7"
      },
      "source": [
        "### Adding and Removing from a List"
      ]
    },
    {
      "cell_type": "code",
      "execution_count": 6,
      "id": "4d1a0560",
      "metadata": {
        "colab": {
          "base_uri": "https://localhost:8080/"
        },
        "id": "4d1a0560",
        "outputId": "c853270e-e062-46b5-f963-2c1ccff10e0e"
      },
      "outputs": [
        {
          "output_type": "stream",
          "name": "stdout",
          "text": [
            "After adding orange: ['apple', 'banana', 'cherry', 'orange']\n",
            "After removing banana: ['apple', 'cherry', 'orange']\n"
          ]
        }
      ],
      "source": [
        "fruits.append(\"orange\")\n",
        "print(\"After adding orange:\", fruits)\n",
        "fruits.remove(\"banana\")\n",
        "print(\"After removing banana:\", fruits)\n"
      ]
    },
    {
      "cell_type": "markdown",
      "id": "f3943b3a",
      "metadata": {
        "id": "f3943b3a"
      },
      "source": [
        "### Tuples"
      ]
    },
    {
      "cell_type": "code",
      "execution_count": 7,
      "id": "d700ed4d",
      "metadata": {
        "colab": {
          "base_uri": "https://localhost:8080/"
        },
        "id": "d700ed4d",
        "outputId": "5ce91f14-8644-4e9f-84e2-88b697326912"
      },
      "outputs": [
        {
          "output_type": "stream",
          "name": "stdout",
          "text": [
            "Point coordinates: (3, 5)\n"
          ]
        }
      ],
      "source": [
        "point = (3, 5)\n",
        "print(\"Point coordinates:\", point)\n"
      ]
    },
    {
      "cell_type": "markdown",
      "id": "565d2e31",
      "metadata": {
        "id": "565d2e31"
      },
      "source": [
        "### Dictionary Basics"
      ]
    },
    {
      "cell_type": "code",
      "execution_count": 8,
      "id": "b1ca2a50",
      "metadata": {
        "colab": {
          "base_uri": "https://localhost:8080/"
        },
        "id": "b1ca2a50",
        "outputId": "6a5b7d6c-a77e-4c78-fe1f-eaaf8ed88169"
      },
      "outputs": [
        {
          "output_type": "stream",
          "name": "stdout",
          "text": [
            "Name: Alice\n",
            "Age: 30\n",
            "City: New York\n"
          ]
        }
      ],
      "source": [
        "person = {\"name\": \"Alice\", \"age\": 30, \"city\": \"New York\"}\n",
        "print(\"Name:\", person[\"name\"])\n",
        "print(\"Age:\", person[\"age\"])\n",
        "print(\"City:\", person[\"city\"])\n"
      ]
    },
    {
      "cell_type": "markdown",
      "id": "950cfd1f",
      "metadata": {
        "id": "950cfd1f"
      },
      "source": [
        "### Conditional Statements"
      ]
    },
    {
      "cell_type": "code",
      "execution_count": 9,
      "id": "a4f3fad8",
      "metadata": {
        "colab": {
          "base_uri": "https://localhost:8080/"
        },
        "id": "a4f3fad8",
        "outputId": "fb4a275a-73cb-4f6b-e167-6c84db1b7b89"
      },
      "outputs": [
        {
          "output_type": "stream",
          "name": "stdout",
          "text": [
            "You are an adult.\n"
          ]
        }
      ],
      "source": [
        "age = 18\n",
        "if age >= 18:\n",
        "    print(\"You are an adult.\")\n",
        "else:\n",
        "    print(\"You are a minor.\")\n"
      ]
    },
    {
      "cell_type": "markdown",
      "id": "fc23915d",
      "metadata": {
        "id": "fc23915d"
      },
      "source": [
        "### For Loop"
      ]
    },
    {
      "cell_type": "code",
      "execution_count": 10,
      "id": "701affeb",
      "metadata": {
        "colab": {
          "base_uri": "https://localhost:8080/"
        },
        "id": "701affeb",
        "outputId": "97e3aca8-83db-42a9-f05b-f01563438d4e"
      },
      "outputs": [
        {
          "output_type": "stream",
          "name": "stdout",
          "text": [
            "Number: 0\n",
            "Number: 1\n",
            "Number: 2\n",
            "Number: 3\n",
            "Number: 4\n"
          ]
        }
      ],
      "source": [
        "for i in range(5):\n",
        "    print(\"Number:\", i)\n"
      ]
    },
    {
      "cell_type": "markdown",
      "id": "8f5cbace",
      "metadata": {
        "id": "8f5cbace"
      },
      "source": [
        "### While Loop"
      ]
    },
    {
      "cell_type": "code",
      "execution_count": 11,
      "id": "23f8751d",
      "metadata": {
        "colab": {
          "base_uri": "https://localhost:8080/"
        },
        "id": "23f8751d",
        "outputId": "0e60fa60-c905-4be3-a56a-ba4fd1662983"
      },
      "outputs": [
        {
          "output_type": "stream",
          "name": "stdout",
          "text": [
            "Counter: 0\n",
            "Counter: 1\n",
            "Counter: 2\n"
          ]
        }
      ],
      "source": [
        "counter = 0\n",
        "while counter < 3:\n",
        "    print(\"Counter:\", counter)\n",
        "    counter += 1\n"
      ]
    },
    {
      "cell_type": "markdown",
      "id": "905dc94e",
      "metadata": {
        "id": "905dc94e"
      },
      "source": [
        "### Function Definition"
      ]
    },
    {
      "cell_type": "code",
      "execution_count": 12,
      "id": "ff9dfd25",
      "metadata": {
        "colab": {
          "base_uri": "https://localhost:8080/"
        },
        "id": "ff9dfd25",
        "outputId": "967063fd-4b0e-4a66-fc4a-722cf0670759"
      },
      "outputs": [
        {
          "output_type": "stream",
          "name": "stdout",
          "text": [
            "Hello, Alice!\n"
          ]
        }
      ],
      "source": [
        "def greet(name):\n",
        "    return f\"Hello, {name}!\"\n",
        "\n",
        "print(greet(\"Alice\"))\n"
      ]
    },
    {
      "cell_type": "markdown",
      "id": "e4670141",
      "metadata": {
        "id": "e4670141"
      },
      "source": [
        "### Default Parameters in Functions"
      ]
    },
    {
      "cell_type": "code",
      "execution_count": 13,
      "id": "fb3ca728",
      "metadata": {
        "colab": {
          "base_uri": "https://localhost:8080/"
        },
        "id": "fb3ca728",
        "outputId": "076142e3-69a1-4102-904e-120290b0b7b4"
      },
      "outputs": [
        {
          "output_type": "stream",
          "name": "stdout",
          "text": [
            "Hello, World!\n",
            "Hello, Alice!\n"
          ]
        }
      ],
      "source": [
        "def greet(name=\"World\"):\n",
        "    return f\"Hello, {name}!\"\n",
        "\n",
        "print(greet())\n",
        "print(greet(\"Alice\"))\n"
      ]
    },
    {
      "cell_type": "markdown",
      "id": "7932f419",
      "metadata": {
        "id": "7932f419"
      },
      "source": [
        "### Lambda Function"
      ]
    },
    {
      "cell_type": "code",
      "execution_count": 14,
      "id": "5ded2e51",
      "metadata": {
        "colab": {
          "base_uri": "https://localhost:8080/"
        },
        "id": "5ded2e51",
        "outputId": "d7c85ac5-b8d9-4386-bf62-72fdd689cc31"
      },
      "outputs": [
        {
          "output_type": "stream",
          "name": "stdout",
          "text": [
            "Square of 5: 25\n"
          ]
        }
      ],
      "source": [
        "square = lambda x: x * x\n",
        "print(\"Square of 5:\", square(5))\n"
      ]
    },
    {
      "cell_type": "markdown",
      "id": "86eb2701",
      "metadata": {
        "id": "86eb2701"
      },
      "source": [
        "### List Comprehension"
      ]
    },
    {
      "cell_type": "code",
      "execution_count": 15,
      "id": "258ed4f8",
      "metadata": {
        "colab": {
          "base_uri": "https://localhost:8080/"
        },
        "id": "258ed4f8",
        "outputId": "4296b7f7-5a0d-40a0-8601-f7541b8a0e36"
      },
      "outputs": [
        {
          "output_type": "stream",
          "name": "stdout",
          "text": [
            "Squared numbers: [1, 4, 9, 16, 25]\n"
          ]
        }
      ],
      "source": [
        "numbers = [1, 2, 3, 4, 5]\n",
        "squared_numbers = [n ** 2 for n in numbers]\n",
        "print(\"Squared numbers:\", squared_numbers)\n"
      ]
    },
    {
      "cell_type": "markdown",
      "id": "738ef103",
      "metadata": {
        "id": "738ef103"
      },
      "source": [
        "### Exception Handling"
      ]
    },
    {
      "cell_type": "code",
      "execution_count": 16,
      "id": "c636cc13",
      "metadata": {
        "colab": {
          "base_uri": "https://localhost:8080/"
        },
        "id": "c636cc13",
        "outputId": "c45860c3-02ec-4123-b67e-507f5e811129"
      },
      "outputs": [
        {
          "output_type": "stream",
          "name": "stdout",
          "text": [
            "Error: Cannot divide by zero!\n"
          ]
        }
      ],
      "source": [
        "try:\n",
        "    result = 10 / 0\n",
        "except ZeroDivisionError:\n",
        "    print(\"Error: Cannot divide by zero!\")\n"
      ]
    },
    {
      "cell_type": "markdown",
      "id": "36bcd068",
      "metadata": {
        "id": "36bcd068"
      },
      "source": [
        "### Working with Sets"
      ]
    },
    {
      "cell_type": "code",
      "execution_count": 17,
      "id": "542253b6",
      "metadata": {
        "colab": {
          "base_uri": "https://localhost:8080/"
        },
        "id": "542253b6",
        "outputId": "cb9cef64-b965-48c9-9e0c-ddc511ddcfca"
      },
      "outputs": [
        {
          "output_type": "stream",
          "name": "stdout",
          "text": [
            "Colors set: {'red', 'blue', 'yellow', 'green'}\n"
          ]
        }
      ],
      "source": [
        "colors = {\"red\", \"green\", \"blue\"}\n",
        "colors.add(\"yellow\")\n",
        "print(\"Colors set:\", colors)\n"
      ]
    },
    {
      "cell_type": "markdown",
      "id": "99504949",
      "metadata": {
        "id": "99504949"
      },
      "source": [
        "### Importing Libraries (Math Example)"
      ]
    },
    {
      "cell_type": "code",
      "execution_count": 18,
      "id": "dc458d8c",
      "metadata": {
        "colab": {
          "base_uri": "https://localhost:8080/"
        },
        "id": "dc458d8c",
        "outputId": "70a28c7c-61e9-45a9-f735-dcb9412ef62c"
      },
      "outputs": [
        {
          "output_type": "stream",
          "name": "stdout",
          "text": [
            "Square root of 16: 4.0\n"
          ]
        }
      ],
      "source": [
        "import math\n",
        "print(\"Square root of 16:\", math.sqrt(16))\n"
      ]
    },
    {
      "cell_type": "markdown",
      "id": "ad42a7e3",
      "metadata": {
        "id": "ad42a7e3"
      },
      "source": [
        "### Random Number Generation"
      ]
    },
    {
      "cell_type": "code",
      "execution_count": 19,
      "id": "4bbedc52",
      "metadata": {
        "colab": {
          "base_uri": "https://localhost:8080/"
        },
        "id": "4bbedc52",
        "outputId": "0938656f-7539-4bc5-b16e-dc3b7f466832"
      },
      "outputs": [
        {
          "output_type": "stream",
          "name": "stdout",
          "text": [
            "Random number between 1 and 10: 8\n"
          ]
        }
      ],
      "source": [
        "import random\n",
        "print(\"Random number between 1 and 10:\", random.randint(1, 10))\n"
      ]
    },
    {
      "cell_type": "markdown",
      "id": "b3f3c58d",
      "metadata": {
        "id": "b3f3c58d"
      },
      "source": [
        "### Reading a String Input"
      ]
    },
    {
      "cell_type": "code",
      "execution_count": 20,
      "id": "1e036cd1",
      "metadata": {
        "colab": {
          "base_uri": "https://localhost:8080/"
        },
        "id": "1e036cd1",
        "outputId": "6042592b-e6ac-4dfd-cbf4-000059e4ce31"
      },
      "outputs": [
        {
          "output_type": "stream",
          "name": "stdout",
          "text": [
            "Enter your name: nilofer\n",
            "Hello, nilofer!\n"
          ]
        }
      ],
      "source": [
        "name = input(\"Enter your name: \")\n",
        "print(f\"Hello, {name}!\")\n"
      ]
    },
    {
      "cell_type": "markdown",
      "id": "3a4a72ea",
      "metadata": {
        "id": "3a4a72ea"
      },
      "source": [
        "### String Manipulation"
      ]
    },
    {
      "cell_type": "code",
      "execution_count": 21,
      "id": "065fa39a",
      "metadata": {
        "colab": {
          "base_uri": "https://localhost:8080/"
        },
        "id": "065fa39a",
        "outputId": "3cee6221-6813-47ea-ce95-9021f779a40c"
      },
      "outputs": [
        {
          "output_type": "stream",
          "name": "stdout",
          "text": [
            "Uppercase: HELLO WORLD\n",
            "Reversed: dlrow olleh\n"
          ]
        }
      ],
      "source": [
        "text = \"hello world\"\n",
        "print(\"Uppercase:\", text.upper())\n",
        "print(\"Reversed:\", text[::-1])\n"
      ]
    },
    {
      "cell_type": "markdown",
      "id": "d0dca300",
      "metadata": {
        "id": "d0dca300"
      },
      "source": [
        "### File Handling (Writing and Reading a File)"
      ]
    },
    {
      "cell_type": "code",
      "execution_count": 22,
      "id": "2af77b7e",
      "metadata": {
        "colab": {
          "base_uri": "https://localhost:8080/"
        },
        "id": "2af77b7e",
        "outputId": "51116ec8-c79b-48ef-faa7-4c5554b200ad"
      },
      "outputs": [
        {
          "output_type": "stream",
          "name": "stdout",
          "text": [
            "File content: Hello, world!\n"
          ]
        }
      ],
      "source": [
        "# Write to a file\n",
        "with open(\"example.txt\", \"w\") as file:\n",
        "    file.write(\"Hello, world!\")\n",
        "\n",
        "# Read from a file\n",
        "with open(\"example.txt\", \"r\") as file:\n",
        "    content = file.read()\n",
        "    print(\"File content:\", content)\n"
      ]
    },
    {
      "cell_type": "markdown",
      "id": "477f9c73",
      "metadata": {
        "id": "477f9c73"
      },
      "source": [
        "### Class and Object Basics"
      ]
    },
    {
      "cell_type": "code",
      "execution_count": 23,
      "id": "708dc4a9",
      "metadata": {
        "colab": {
          "base_uri": "https://localhost:8080/"
        },
        "id": "708dc4a9",
        "outputId": "7640603d-2f67-4c42-8dd2-f6403e90d663"
      },
      "outputs": [
        {
          "output_type": "stream",
          "name": "stdout",
          "text": [
            "Dog's name: Buddy\n",
            "Dog says: Woof!\n"
          ]
        }
      ],
      "source": [
        "class Dog:\n",
        "    def __init__(self, name, age):\n",
        "        self.name = name\n",
        "        self.age = age\n",
        "\n",
        "    def bark(self):\n",
        "        return \"Woof!\"\n",
        "\n",
        "my_dog = Dog(\"Buddy\", 3)\n",
        "print(\"Dog's name:\", my_dog.name)\n",
        "print(\"Dog says:\", my_dog.bark())\n"
      ]
    },
    {
      "cell_type": "markdown",
      "id": "d3284810",
      "metadata": {
        "id": "d3284810"
      },
      "source": [
        "### Inheritance"
      ]
    },
    {
      "cell_type": "code",
      "execution_count": 24,
      "id": "25e5d1ed",
      "metadata": {
        "colab": {
          "base_uri": "https://localhost:8080/"
        },
        "id": "25e5d1ed",
        "outputId": "f310221e-2ba1-4ae9-d6bd-a662b26ad18c"
      },
      "outputs": [
        {
          "output_type": "stream",
          "name": "stdout",
          "text": [
            "Cat says: Meow\n"
          ]
        }
      ],
      "source": [
        "class Animal:\n",
        "    def speak(self):\n",
        "        return \"Some sound\"\n",
        "\n",
        "class Cat(Animal):\n",
        "    def speak(self):\n",
        "        return \"Meow\"\n",
        "\n",
        "my_cat = Cat()\n",
        "print(\"Cat says:\", my_cat.speak())\n"
      ]
    },
    {
      "cell_type": "markdown",
      "id": "9ae95d3b",
      "metadata": {
        "id": "9ae95d3b"
      },
      "source": [
        "### Simple Plotting with Matplotlib"
      ]
    },
    {
      "cell_type": "code",
      "execution_count": 25,
      "id": "968bff69",
      "metadata": {
        "colab": {
          "base_uri": "https://localhost:8080/",
          "height": 472
        },
        "id": "968bff69",
        "outputId": "2e8c8682-038d-48ea-e0fe-b40e15cc8e0b"
      },
      "outputs": [
        {
          "output_type": "display_data",
          "data": {
            "text/plain": [
              "<Figure size 640x480 with 1 Axes>"
            ],
            "image/png": "[encoded data removed]"
          },
          "metadata": {}
        }
      ],
      "source": [
        "import matplotlib.pyplot as plt\n",
        "\n",
        "x = [1, 2, 3, 4, 5]\n",
        "y = [1, 4, 9, 16, 25]\n",
        "\n",
        "plt.plot(x, y, label=\"y = x^2\")\n",
        "plt.xlabel(\"x\")\n",
        "plt.ylabel(\"y\")\n",
        "plt.title(\"Simple Line Plot\")\n",
        "plt.legend()\n",
        "plt.show()\n"
      ]
    }
  ],
  "metadata": {
    "colab": {
      "provenance": []
    },
    "language_info": {
      "name": "python"
    },
    "kernelspec": {
      "name": "python3",
      "display_name": "Python 3"
    }
  },
  "nbformat": 4,
  "nbformat_minor": 5
}